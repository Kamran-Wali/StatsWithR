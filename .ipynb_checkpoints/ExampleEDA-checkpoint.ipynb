{
 "cells": [
  {
   "cell_type": "code",
   "execution_count": 97,
   "metadata": {
    "collapsed": true
   },
   "outputs": [],
   "source": [
    "load(\"selected_nzes2011.Rdata\")"
   ]
  },
  {
   "cell_type": "code",
   "execution_count": 2,
   "metadata": {
    "collapsed": false
   },
   "outputs": [
    {
     "name": "stderr",
     "output_type": "stream",
     "text": [
      "\n",
      "Attaching package: ‘dplyr’\n",
      "\n",
      "The following objects are masked from ‘package:stats’:\n",
      "\n",
      "    filter, lag\n",
      "\n",
      "The following objects are masked from ‘package:base’:\n",
      "\n",
      "    intersect, setdiff, setequal, union\n",
      "\n"
     ]
    }
   ],
   "source": [
    "library(dplyr)"
   ]
  },
  {
   "cell_type": "code",
   "execution_count": 3,
   "metadata": {
    "collapsed": false
   },
   "outputs": [
    {
     "data": {
      "text/html": [
       "<ol class=list-inline>\n",
       "\t<li>'Jelect'</li>\n",
       "\t<li>'jblogel'</li>\n",
       "\t<li>'jnewspaper'</li>\n",
       "\t<li>'jnatradio'</li>\n",
       "\t<li>'jtalkback'</li>\n",
       "\t<li>'jdiscussp'</li>\n",
       "\t<li>'jrallies'</li>\n",
       "\t<li>'jpersuade'</li>\n",
       "\t<li>'jpcmoney'</li>\n",
       "\t<li>'jpcposter'</li>\n",
       "\t<li>'jlablike'</li>\n",
       "\t<li>'jnatlike'</li>\n",
       "\t<li>'jgrnlike'</li>\n",
       "\t<li>'jnzflike'</li>\n",
       "\t<li>'jactlike'</li>\n",
       "\t<li>'junflike'</li>\n",
       "\t<li>'jmaolike'</li>\n",
       "\t<li>'jmnplike'</li>\n",
       "\t<li>'jmostlike'</li>\n",
       "\t<li>'jmostlikex'</li>\n",
       "\t<li>'jrepublic'</li>\n",
       "\t<li>'jsphealth'</li>\n",
       "\t<li>'jspedu'</li>\n",
       "\t<li>'jspunemp'</li>\n",
       "\t<li>'jspdefence'</li>\n",
       "\t<li>'jspsuper'</li>\n",
       "\t<li>'jspbusind'</li>\n",
       "\t<li>'jsppolice'</li>\n",
       "\t<li>'jspwelfare'</li>\n",
       "\t<li>'jspenviro'</li>\n",
       "\t<li>'jgovpdk'</li>\n",
       "\t<li>'jgovplab'</li>\n",
       "\t<li>'jgovpnat'</li>\n",
       "\t<li>'jgovpgrn'</li>\n",
       "\t<li>'jgovpnzf'</li>\n",
       "\t<li>'jgovpact'</li>\n",
       "\t<li>'jgovunf'</li>\n",
       "\t<li>'jgovpmao'</li>\n",
       "\t<li>'jgovpmnp'</li>\n",
       "\t<li>'jnevervoteno'</li>\n",
       "\t<li>'jnevervotelab'</li>\n",
       "\t<li>'jnevervotenat'</li>\n",
       "\t<li>'jnevervotegrn'</li>\n",
       "\t<li>'jnevervotenzf'</li>\n",
       "\t<li>'jnevervoteact'</li>\n",
       "\t<li>'jnevervoteunf'</li>\n",
       "\t<li>'jnevervotemao'</li>\n",
       "\t<li>'jnevervotemnp'</li>\n",
       "\t<li>'jnevervoteoth'</li>\n",
       "\t<li>'jnevervoteothx'</li>\n",
       "\t<li>'jfirstpx'</li>\n",
       "\t<li>'jsecondp'</li>\n",
       "\t<li>'jage'</li>\n",
       "\t<li>'jlanguage'</li>\n",
       "\t<li>'jlanguagex'</li>\n",
       "\t<li>'jrollsex'</li>\n",
       "\t<li>'jhqual'</li>\n",
       "\t<li>'jwkft'</li>\n",
       "\t<li>'jwkpt'</li>\n",
       "\t<li>'jwkun'</li>\n",
       "\t<li>'jwkret'</li>\n",
       "\t<li>'jwkdis'</li>\n",
       "\t<li>'jwksch'</li>\n",
       "\t<li>'jwkunpo'</li>\n",
       "\t<li>'jwkunpi'</li>\n",
       "\t<li>'jhhincome'</li>\n",
       "\t<li>'jhhadults'</li>\n",
       "\t<li>'jhhchn'</li>\n",
       "\t<li>'jmarital'</li>\n",
       "\t<li>'r_jind'</li>\n",
       "\t<li>'jlablr'</li>\n",
       "\t<li>'jnatlr'</li>\n",
       "\t<li>'jgrnlr'</li>\n",
       "\t<li>'jnzflr'</li>\n",
       "\t<li>'jactlr'</li>\n",
       "\t<li>'junflr'</li>\n",
       "\t<li>'jmaolr'</li>\n",
       "\t<li>'jmnplr'</li>\n",
       "\t<li>'jslflr'</li>\n",
       "\t<li>'jrelservices'</li>\n",
       "\t<li>'jrelnone'</li>\n",
       "\t<li>'jrelang'</li>\n",
       "\t<li>'jrelpres'</li>\n",
       "\t<li>'jrelcath'</li>\n",
       "\t<li>'jrelmeth'</li>\n",
       "\t<li>'jrelbap'</li>\n",
       "\t<li>'jrellat'</li>\n",
       "\t<li>'jrelrat'</li>\n",
       "\t<li>'jrelfun'</li>\n",
       "\t<li>'jrelothc'</li>\n",
       "\t<li>'jrelnonc'</li>\n",
       "\t<li>'jreligionx'</li>\n",
       "\t<li>'jreligiousity'</li>\n",
       "\t<li>'jethnicity_e'</li>\n",
       "\t<li>'jethnicity_m'</li>\n",
       "\t<li>'jethnicity_p'</li>\n",
       "\t<li>'jethnicity_a'</li>\n",
       "\t<li>'jethnicity_o'</li>\n",
       "\t<li>'jethnicityx'</li>\n",
       "\t<li>'jethnicmost'</li>\n",
       "\t<li>'jethnicmostx'</li>\n",
       "\t<li>'jpartyvote'</li>\n",
       "\t<li>'jelecvote'</li>\n",
       "\t<li>'njptyvote'</li>\n",
       "\t<li>'njelecvote'</li>\n",
       "\t<li>'jdiffvoting'</li>\n",
       "\t<li>'X_singlefav'</li>\n",
       "</ol>\n"
      ],
      "text/latex": [
       "\\begin{enumerate*}\n",
       "\\item 'Jelect'\n",
       "\\item 'jblogel'\n",
       "\\item 'jnewspaper'\n",
       "\\item 'jnatradio'\n",
       "\\item 'jtalkback'\n",
       "\\item 'jdiscussp'\n",
       "\\item 'jrallies'\n",
       "\\item 'jpersuade'\n",
       "\\item 'jpcmoney'\n",
       "\\item 'jpcposter'\n",
       "\\item 'jlablike'\n",
       "\\item 'jnatlike'\n",
       "\\item 'jgrnlike'\n",
       "\\item 'jnzflike'\n",
       "\\item 'jactlike'\n",
       "\\item 'junflike'\n",
       "\\item 'jmaolike'\n",
       "\\item 'jmnplike'\n",
       "\\item 'jmostlike'\n",
       "\\item 'jmostlikex'\n",
       "\\item 'jrepublic'\n",
       "\\item 'jsphealth'\n",
       "\\item 'jspedu'\n",
       "\\item 'jspunemp'\n",
       "\\item 'jspdefence'\n",
       "\\item 'jspsuper'\n",
       "\\item 'jspbusind'\n",
       "\\item 'jsppolice'\n",
       "\\item 'jspwelfare'\n",
       "\\item 'jspenviro'\n",
       "\\item 'jgovpdk'\n",
       "\\item 'jgovplab'\n",
       "\\item 'jgovpnat'\n",
       "\\item 'jgovpgrn'\n",
       "\\item 'jgovpnzf'\n",
       "\\item 'jgovpact'\n",
       "\\item 'jgovunf'\n",
       "\\item 'jgovpmao'\n",
       "\\item 'jgovpmnp'\n",
       "\\item 'jnevervoteno'\n",
       "\\item 'jnevervotelab'\n",
       "\\item 'jnevervotenat'\n",
       "\\item 'jnevervotegrn'\n",
       "\\item 'jnevervotenzf'\n",
       "\\item 'jnevervoteact'\n",
       "\\item 'jnevervoteunf'\n",
       "\\item 'jnevervotemao'\n",
       "\\item 'jnevervotemnp'\n",
       "\\item 'jnevervoteoth'\n",
       "\\item 'jnevervoteothx'\n",
       "\\item 'jfirstpx'\n",
       "\\item 'jsecondp'\n",
       "\\item 'jage'\n",
       "\\item 'jlanguage'\n",
       "\\item 'jlanguagex'\n",
       "\\item 'jrollsex'\n",
       "\\item 'jhqual'\n",
       "\\item 'jwkft'\n",
       "\\item 'jwkpt'\n",
       "\\item 'jwkun'\n",
       "\\item 'jwkret'\n",
       "\\item 'jwkdis'\n",
       "\\item 'jwksch'\n",
       "\\item 'jwkunpo'\n",
       "\\item 'jwkunpi'\n",
       "\\item 'jhhincome'\n",
       "\\item 'jhhadults'\n",
       "\\item 'jhhchn'\n",
       "\\item 'jmarital'\n",
       "\\item 'r\\_jind'\n",
       "\\item 'jlablr'\n",
       "\\item 'jnatlr'\n",
       "\\item 'jgrnlr'\n",
       "\\item 'jnzflr'\n",
       "\\item 'jactlr'\n",
       "\\item 'junflr'\n",
       "\\item 'jmaolr'\n",
       "\\item 'jmnplr'\n",
       "\\item 'jslflr'\n",
       "\\item 'jrelservices'\n",
       "\\item 'jrelnone'\n",
       "\\item 'jrelang'\n",
       "\\item 'jrelpres'\n",
       "\\item 'jrelcath'\n",
       "\\item 'jrelmeth'\n",
       "\\item 'jrelbap'\n",
       "\\item 'jrellat'\n",
       "\\item 'jrelrat'\n",
       "\\item 'jrelfun'\n",
       "\\item 'jrelothc'\n",
       "\\item 'jrelnonc'\n",
       "\\item 'jreligionx'\n",
       "\\item 'jreligiousity'\n",
       "\\item 'jethnicity\\_e'\n",
       "\\item 'jethnicity\\_m'\n",
       "\\item 'jethnicity\\_p'\n",
       "\\item 'jethnicity\\_a'\n",
       "\\item 'jethnicity\\_o'\n",
       "\\item 'jethnicityx'\n",
       "\\item 'jethnicmost'\n",
       "\\item 'jethnicmostx'\n",
       "\\item 'jpartyvote'\n",
       "\\item 'jelecvote'\n",
       "\\item 'njptyvote'\n",
       "\\item 'njelecvote'\n",
       "\\item 'jdiffvoting'\n",
       "\\item 'X\\_singlefav'\n",
       "\\end{enumerate*}\n"
      ],
      "text/markdown": [
       "1. 'Jelect'\n",
       "2. 'jblogel'\n",
       "3. 'jnewspaper'\n",
       "4. 'jnatradio'\n",
       "5. 'jtalkback'\n",
       "6. 'jdiscussp'\n",
       "7. 'jrallies'\n",
       "8. 'jpersuade'\n",
       "9. 'jpcmoney'\n",
       "10. 'jpcposter'\n",
       "11. 'jlablike'\n",
       "12. 'jnatlike'\n",
       "13. 'jgrnlike'\n",
       "14. 'jnzflike'\n",
       "15. 'jactlike'\n",
       "16. 'junflike'\n",
       "17. 'jmaolike'\n",
       "18. 'jmnplike'\n",
       "19. 'jmostlike'\n",
       "20. 'jmostlikex'\n",
       "21. 'jrepublic'\n",
       "22. 'jsphealth'\n",
       "23. 'jspedu'\n",
       "24. 'jspunemp'\n",
       "25. 'jspdefence'\n",
       "26. 'jspsuper'\n",
       "27. 'jspbusind'\n",
       "28. 'jsppolice'\n",
       "29. 'jspwelfare'\n",
       "30. 'jspenviro'\n",
       "31. 'jgovpdk'\n",
       "32. 'jgovplab'\n",
       "33. 'jgovpnat'\n",
       "34. 'jgovpgrn'\n",
       "35. 'jgovpnzf'\n",
       "36. 'jgovpact'\n",
       "37. 'jgovunf'\n",
       "38. 'jgovpmao'\n",
       "39. 'jgovpmnp'\n",
       "40. 'jnevervoteno'\n",
       "41. 'jnevervotelab'\n",
       "42. 'jnevervotenat'\n",
       "43. 'jnevervotegrn'\n",
       "44. 'jnevervotenzf'\n",
       "45. 'jnevervoteact'\n",
       "46. 'jnevervoteunf'\n",
       "47. 'jnevervotemao'\n",
       "48. 'jnevervotemnp'\n",
       "49. 'jnevervoteoth'\n",
       "50. 'jnevervoteothx'\n",
       "51. 'jfirstpx'\n",
       "52. 'jsecondp'\n",
       "53. 'jage'\n",
       "54. 'jlanguage'\n",
       "55. 'jlanguagex'\n",
       "56. 'jrollsex'\n",
       "57. 'jhqual'\n",
       "58. 'jwkft'\n",
       "59. 'jwkpt'\n",
       "60. 'jwkun'\n",
       "61. 'jwkret'\n",
       "62. 'jwkdis'\n",
       "63. 'jwksch'\n",
       "64. 'jwkunpo'\n",
       "65. 'jwkunpi'\n",
       "66. 'jhhincome'\n",
       "67. 'jhhadults'\n",
       "68. 'jhhchn'\n",
       "69. 'jmarital'\n",
       "70. 'r_jind'\n",
       "71. 'jlablr'\n",
       "72. 'jnatlr'\n",
       "73. 'jgrnlr'\n",
       "74. 'jnzflr'\n",
       "75. 'jactlr'\n",
       "76. 'junflr'\n",
       "77. 'jmaolr'\n",
       "78. 'jmnplr'\n",
       "79. 'jslflr'\n",
       "80. 'jrelservices'\n",
       "81. 'jrelnone'\n",
       "82. 'jrelang'\n",
       "83. 'jrelpres'\n",
       "84. 'jrelcath'\n",
       "85. 'jrelmeth'\n",
       "86. 'jrelbap'\n",
       "87. 'jrellat'\n",
       "88. 'jrelrat'\n",
       "89. 'jrelfun'\n",
       "90. 'jrelothc'\n",
       "91. 'jrelnonc'\n",
       "92. 'jreligionx'\n",
       "93. 'jreligiousity'\n",
       "94. 'jethnicity_e'\n",
       "95. 'jethnicity_m'\n",
       "96. 'jethnicity_p'\n",
       "97. 'jethnicity_a'\n",
       "98. 'jethnicity_o'\n",
       "99. 'jethnicityx'\n",
       "100. 'jethnicmost'\n",
       "101. 'jethnicmostx'\n",
       "102. 'jpartyvote'\n",
       "103. 'jelecvote'\n",
       "104. 'njptyvote'\n",
       "105. 'njelecvote'\n",
       "106. 'jdiffvoting'\n",
       "107. 'X_singlefav'\n",
       "\n",
       "\n"
      ],
      "text/plain": [
       "  [1] \"Jelect\"         \"jblogel\"        \"jnewspaper\"     \"jnatradio\"     \n",
       "  [5] \"jtalkback\"      \"jdiscussp\"      \"jrallies\"       \"jpersuade\"     \n",
       "  [9] \"jpcmoney\"       \"jpcposter\"      \"jlablike\"       \"jnatlike\"      \n",
       " [13] \"jgrnlike\"       \"jnzflike\"       \"jactlike\"       \"junflike\"      \n",
       " [17] \"jmaolike\"       \"jmnplike\"       \"jmostlike\"      \"jmostlikex\"    \n",
       " [21] \"jrepublic\"      \"jsphealth\"      \"jspedu\"         \"jspunemp\"      \n",
       " [25] \"jspdefence\"     \"jspsuper\"       \"jspbusind\"      \"jsppolice\"     \n",
       " [29] \"jspwelfare\"     \"jspenviro\"      \"jgovpdk\"        \"jgovplab\"      \n",
       " [33] \"jgovpnat\"       \"jgovpgrn\"       \"jgovpnzf\"       \"jgovpact\"      \n",
       " [37] \"jgovunf\"        \"jgovpmao\"       \"jgovpmnp\"       \"jnevervoteno\"  \n",
       " [41] \"jnevervotelab\"  \"jnevervotenat\"  \"jnevervotegrn\"  \"jnevervotenzf\" \n",
       " [45] \"jnevervoteact\"  \"jnevervoteunf\"  \"jnevervotemao\"  \"jnevervotemnp\" \n",
       " [49] \"jnevervoteoth\"  \"jnevervoteothx\" \"jfirstpx\"       \"jsecondp\"      \n",
       " [53] \"jage\"           \"jlanguage\"      \"jlanguagex\"     \"jrollsex\"      \n",
       " [57] \"jhqual\"         \"jwkft\"          \"jwkpt\"          \"jwkun\"         \n",
       " [61] \"jwkret\"         \"jwkdis\"         \"jwksch\"         \"jwkunpo\"       \n",
       " [65] \"jwkunpi\"        \"jhhincome\"      \"jhhadults\"      \"jhhchn\"        \n",
       " [69] \"jmarital\"       \"r_jind\"         \"jlablr\"         \"jnatlr\"        \n",
       " [73] \"jgrnlr\"         \"jnzflr\"         \"jactlr\"         \"junflr\"        \n",
       " [77] \"jmaolr\"         \"jmnplr\"         \"jslflr\"         \"jrelservices\"  \n",
       " [81] \"jrelnone\"       \"jrelang\"        \"jrelpres\"       \"jrelcath\"      \n",
       " [85] \"jrelmeth\"       \"jrelbap\"        \"jrellat\"        \"jrelrat\"       \n",
       " [89] \"jrelfun\"        \"jrelothc\"       \"jrelnonc\"       \"jreligionx\"    \n",
       " [93] \"jreligiousity\"  \"jethnicity_e\"   \"jethnicity_m\"   \"jethnicity_p\"  \n",
       " [97] \"jethnicity_a\"   \"jethnicity_o\"   \"jethnicityx\"    \"jethnicmost\"   \n",
       "[101] \"jethnicmostx\"   \"jpartyvote\"     \"jelecvote\"      \"njptyvote\"     \n",
       "[105] \"njelecvote\"     \"jdiffvoting\"    \"X_singlefav\"   "
      ]
     },
     "metadata": {},
     "output_type": "display_data"
    }
   ],
   "source": [
    "names(selected_nzes2011)"
   ]
  },
  {
   "cell_type": "code",
   "execution_count": 4,
   "metadata": {
    "collapsed": false
   },
   "outputs": [
    {
     "data": {
      "text/html": [
       "'X_singlefav'"
      ],
      "text/latex": [
       "'X\\_singlefav'"
      ],
      "text/markdown": [
       "'X_singlefav'"
      ],
      "text/plain": [
       "[1] \"X_singlefav\""
      ]
     },
     "metadata": {},
     "output_type": "display_data"
    }
   ],
   "source": [
    "grep(\"singlefav\", names(selected_nzes2011), value = TRUE)"
   ]
  },
  {
   "cell_type": "code",
   "execution_count": 5,
   "metadata": {
    "collapsed": false
   },
   "outputs": [
    {
     "name": "stdout",
     "output_type": "stream",
     "text": [
      "'data.frame':\t3101 obs. of  3 variables:\n",
      " $ jpartyvote : chr  \"National\" \"National\" \"National\" \"NZ First\" ...\n",
      " $ jdiffvoting: chr  \"Voting can make a reasonable amount of difference to what happens\" \"Voting can make some difference to what happens\" \"Voting can make a big difference to what happens\" \"Voting can make some difference to what happens\" ...\n",
      " $ X_singlefav: chr  \"National\" \"National\" \"National\" \"Labour\" ...\n"
     ]
    }
   ],
   "source": [
    "selected_nzes2011 %>% \n",
    "  select(jpartyvote, jdiffvoting, X_singlefav) %>% \n",
    "  str()"
   ]
  },
  {
   "cell_type": "code",
   "execution_count": 7,
   "metadata": {
    "collapsed": false
   },
   "outputs": [
    {
     "data": {
      "text/html": [
       "<table>\n",
       "<thead><tr><th></th><th scope=col>jpartyvote</th><th scope=col>count</th></tr></thead>\n",
       "<tbody>\n",
       "\t<tr><th scope=row>1</th><td>Act</td><td>29 </td></tr>\n",
       "\t<tr><th scope=row>2</th><td>ALC</td><td>10 </td></tr>\n",
       "\t<tr><th scope=row>3</th><td>Alliance</td><td>2       </td></tr>\n",
       "\t<tr><th scope=row>4</th><td>Another party</td><td>8            </td></tr>\n",
       "\t<tr><th scope=row>5</th><td>Conservative</td><td>74          </td></tr>\n",
       "\t<tr><th scope=row>6</th><td>Green</td><td>348  </td></tr>\n",
       "\t<tr><th scope=row>7</th><td>Labour</td><td>749   </td></tr>\n",
       "\t<tr><th scope=row>8</th><td>Mana</td><td>62  </td></tr>\n",
       "\t<tr><th scope=row>9</th><td>Maori Party</td><td>128        </td></tr>\n",
       "\t<tr><th scope=row>10</th><td>National</td><td>1130    </td></tr>\n",
       "\t<tr><th scope=row>11</th><td>NZ First</td><td>216     </td></tr>\n",
       "\t<tr><th scope=row>12</th><td>United Future</td><td>14           </td></tr>\n",
       "</tbody>\n",
       "</table>\n"
      ],
      "text/latex": [
       "\\begin{tabular}{r|ll}\n",
       "  & jpartyvote & count\\\\\n",
       "\\hline\n",
       "\t1 & Act & 29 \\\\\n",
       "\t2 & ALC & 10 \\\\\n",
       "\t3 & Alliance & 2       \\\\\n",
       "\t4 & Another party & 8            \\\\\n",
       "\t5 & Conservative & 74          \\\\\n",
       "\t6 & Green & 348  \\\\\n",
       "\t7 & Labour & 749   \\\\\n",
       "\t8 & Mana & 62  \\\\\n",
       "\t9 & Maori Party & 128        \\\\\n",
       "\t10 & National & 1130    \\\\\n",
       "\t11 & NZ First & 216     \\\\\n",
       "\t12 & United Future & 14           \\\\\n",
       "\\end{tabular}\n"
      ],
      "text/plain": [
       "      jpartyvote count\n",
       "1            Act    29\n",
       "2            ALC    10\n",
       "3       Alliance     2\n",
       "4  Another party     8\n",
       "5   Conservative    74\n",
       "6          Green   348\n",
       "7         Labour   749\n",
       "8           Mana    62\n",
       "9    Maori Party   128\n",
       "10      National  1130\n",
       "11      NZ First   216\n",
       "12 United Future    14"
      ]
     },
     "metadata": {},
     "output_type": "display_data"
    }
   ],
   "source": [
    "selected_nzes2011 %>% \n",
    "filter(jpartyvote != \"Don't know\") %>%\n",
    "group_by(jpartyvote) %>%\n",
    "summarise(count = n())"
   ]
  },
  {
   "cell_type": "code",
   "execution_count": 8,
   "metadata": {
    "collapsed": false
   },
   "outputs": [
    {
     "data": {
      "text/html": [
       "<table>\n",
       "<thead><tr><th></th><th scope=col>X_singlefav</th><th scope=col>count</th></tr></thead>\n",
       "<tbody>\n",
       "\t<tr><th scope=row>1</th><td>Act</td><td>33 </td></tr>\n",
       "\t<tr><th scope=row>2</th><td>Green</td><td>388  </td></tr>\n",
       "\t<tr><th scope=row>3</th><td>Labour</td><td>1043  </td></tr>\n",
       "\t<tr><th scope=row>4</th><td>Mana</td><td>47  </td></tr>\n",
       "\t<tr><th scope=row>5</th><td>National</td><td>1266    </td></tr>\n",
       "\t<tr><th scope=row>6</th><td>NZ First</td><td>138     </td></tr>\n",
       "\t<tr><th scope=row>7</th><td>United Future</td><td>128          </td></tr>\n",
       "\t<tr><th scope=row>8</th><td>NA</td><td>58</td></tr>\n",
       "</tbody>\n",
       "</table>\n"
      ],
      "text/latex": [
       "\\begin{tabular}{r|ll}\n",
       "  & X\\_singlefav & count\\\\\n",
       "\\hline\n",
       "\t1 & Act & 33 \\\\\n",
       "\t2 & Green & 388  \\\\\n",
       "\t3 & Labour & 1043  \\\\\n",
       "\t4 & Mana & 47  \\\\\n",
       "\t5 & National & 1266    \\\\\n",
       "\t6 & NZ First & 138     \\\\\n",
       "\t7 & United Future & 128          \\\\\n",
       "\t8 & NA & 58\\\\\n",
       "\\end{tabular}\n"
      ],
      "text/plain": [
       "    X_singlefav count\n",
       "1           Act    33\n",
       "2         Green   388\n",
       "3        Labour  1043\n",
       "4          Mana    47\n",
       "5      National  1266\n",
       "6      NZ First   138\n",
       "7 United Future   128\n",
       "8          <NA>    58"
      ]
     },
     "metadata": {},
     "output_type": "display_data"
    }
   ],
   "source": [
    "selected_nzes2011 %>% \n",
    "group_by (X_singlefav) %>%\n",
    "summarise(count =  n())"
   ]
  },
  {
   "cell_type": "code",
   "execution_count": 12,
   "metadata": {
    "collapsed": false
   },
   "outputs": [
    {
     "data": {
      "text/html": [
       "<table>\n",
       "<thead><tr><th></th><th scope=col>X_singlefav</th><th scope=col>count</th></tr></thead>\n",
       "<tbody>\n",
       "\t<tr><th scope=row>1</th><td>Act</td><td>33 </td></tr>\n",
       "\t<tr><th scope=row>2</th><td>Green</td><td>388  </td></tr>\n",
       "\t<tr><th scope=row>3</th><td>Labour</td><td>1043  </td></tr>\n",
       "\t<tr><th scope=row>4</th><td>Mana</td><td>47  </td></tr>\n",
       "\t<tr><th scope=row>5</th><td>National</td><td>1266    </td></tr>\n",
       "\t<tr><th scope=row>6</th><td>NZ First</td><td>138     </td></tr>\n",
       "\t<tr><th scope=row>7</th><td>United Future</td><td>128          </td></tr>\n",
       "</tbody>\n",
       "</table>\n"
      ],
      "text/latex": [
       "\\begin{tabular}{r|ll}\n",
       "  & X\\_singlefav & count\\\\\n",
       "\\hline\n",
       "\t1 & Act & 33 \\\\\n",
       "\t2 & Green & 388  \\\\\n",
       "\t3 & Labour & 1043  \\\\\n",
       "\t4 & Mana & 47  \\\\\n",
       "\t5 & National & 1266    \\\\\n",
       "\t6 & NZ First & 138     \\\\\n",
       "\t7 & United Future & 128          \\\\\n",
       "\\end{tabular}\n"
      ],
      "text/plain": [
       "    X_singlefav count\n",
       "1           Act    33\n",
       "2         Green   388\n",
       "3        Labour  1043\n",
       "4          Mana    47\n",
       "5      National  1266\n",
       "6      NZ First   138\n",
       "7 United Future   128"
      ]
     },
     "metadata": {},
     "output_type": "display_data"
    }
   ],
   "source": [
    "selected_nzes2011 %>% \n",
    "filter(!is.na(X_singlefav)) %>%\n",
    "group_by (X_singlefav) %>%\n",
    "summarise(count =  n())"
   ]
  },
  {
   "cell_type": "code",
   "execution_count": 13,
   "metadata": {
    "collapsed": false
   },
   "outputs": [
    {
     "data": {
      "text/html": [
       "<table>\n",
       "<thead><tr><th></th><th scope=col>X_singlefav</th><th scope=col>count</th></tr></thead>\n",
       "<tbody>\n",
       "\t<tr><th scope=row>1</th><td>Act</td><td>29 </td></tr>\n",
       "\t<tr><th scope=row>2</th><td>Green</td><td>354  </td></tr>\n",
       "\t<tr><th scope=row>3</th><td>Labour</td><td>914   </td></tr>\n",
       "\t<tr><th scope=row>4</th><td>Mana</td><td>42  </td></tr>\n",
       "\t<tr><th scope=row>5</th><td>National</td><td>1172    </td></tr>\n",
       "\t<tr><th scope=row>6</th><td>NZ First</td><td>119     </td></tr>\n",
       "\t<tr><th scope=row>7</th><td>United Future</td><td>115          </td></tr>\n",
       "</tbody>\n",
       "</table>\n"
      ],
      "text/latex": [
       "\\begin{tabular}{r|ll}\n",
       "  & X\\_singlefav & count\\\\\n",
       "\\hline\n",
       "\t1 & Act & 29 \\\\\n",
       "\t2 & Green & 354  \\\\\n",
       "\t3 & Labour & 914   \\\\\n",
       "\t4 & Mana & 42  \\\\\n",
       "\t5 & National & 1172    \\\\\n",
       "\t6 & NZ First & 119     \\\\\n",
       "\t7 & United Future & 115          \\\\\n",
       "\\end{tabular}\n"
      ],
      "text/plain": [
       "    X_singlefav count\n",
       "1           Act    29\n",
       "2         Green   354\n",
       "3        Labour   914\n",
       "4          Mana    42\n",
       "5      National  1172\n",
       "6      NZ First   119\n",
       "7 United Future   115"
      ]
     },
     "metadata": {},
     "output_type": "display_data"
    }
   ],
   "source": [
    "selected_nzes2011 %>% \n",
    "filter(!is.na(X_singlefav) , jpartyvote != \"Don't know\") %>%\n",
    "group_by (X_singlefav) %>%\n",
    "summarise(count =  n())"
   ]
  },
  {
   "cell_type": "code",
   "execution_count": 15,
   "metadata": {
    "collapsed": false
   },
   "outputs": [
    {
     "data": {
      "text/html": [
       "<table>\n",
       "<thead><tr><th></th><th scope=col>jdiffvoting</th><th scope=col>count</th></tr></thead>\n",
       "<tbody>\n",
       "\t<tr><th scope=row>1</th><td>Don't know</td><td>63        </td></tr>\n",
       "\t<tr><th scope=row>2</th><td>Voting can make a big difference to what happens</td><td>1605                                            </td></tr>\n",
       "\t<tr><th scope=row>3</th><td>Voting can make a reasonable amount of difference to what happens</td><td>841                                                              </td></tr>\n",
       "\t<tr><th scope=row>4</th><td>Voting can make some difference to what happens</td><td>339                                            </td></tr>\n",
       "\t<tr><th scope=row>5</th><td>Voting won't make any difference to what happens</td><td>119                                             </td></tr>\n",
       "\t<tr><th scope=row>6</th><td>Voting won't make much difference to what happens</td><td>106                                              </td></tr>\n",
       "\t<tr><th scope=row>7</th><td>NA</td><td>28</td></tr>\n",
       "</tbody>\n",
       "</table>\n"
      ],
      "text/latex": [
       "\\begin{tabular}{r|ll}\n",
       "  & jdiffvoting & count\\\\\n",
       "\\hline\n",
       "\t1 & Don't know & 63        \\\\\n",
       "\t2 & Voting can make a big difference to what happens & 1605                                            \\\\\n",
       "\t3 & Voting can make a reasonable amount of difference to what happens & 841                                                              \\\\\n",
       "\t4 & Voting can make some difference to what happens & 339                                            \\\\\n",
       "\t5 & Voting won't make any difference to what happens & 119                                             \\\\\n",
       "\t6 & Voting won't make much difference to what happens & 106                                              \\\\\n",
       "\t7 & NA & 28\\\\\n",
       "\\end{tabular}\n"
      ],
      "text/plain": [
       "                                                        jdiffvoting count\n",
       "1                                                        Don't know    63\n",
       "2                  Voting can make a big difference to what happens  1605\n",
       "3 Voting can make a reasonable amount of difference to what happens   841\n",
       "4                   Voting can make some difference to what happens   339\n",
       "5                  Voting won't make any difference to what happens   119\n",
       "6                 Voting won't make much difference to what happens   106\n",
       "7                                                              <NA>    28"
      ]
     },
     "metadata": {},
     "output_type": "display_data"
    }
   ],
   "source": [
    "selected_nzes2011 %>%\n",
    "group_by (jdiffvoting) %>%\n",
    "summarise(count = n())"
   ]
  },
  {
   "cell_type": "code",
   "execution_count": 98,
   "metadata": {
    "collapsed": false
   },
   "outputs": [],
   "source": [
    "selected_nzes2011 <- selected_nzes2011 %>% \n",
    "  mutate (sameparty = ifelse (jpartyvote == X_singlefav, \"same\", \"different\"))"
   ]
  },
  {
   "cell_type": "code",
   "execution_count": 31,
   "metadata": {
    "collapsed": false
   },
   "outputs": [
    {
     "data": {
      "text/html": [
       "<table>\n",
       "<thead><tr><th></th><th scope=col>jpartyvote</th><th scope=col>X_singlefav</th><th scope=col>sameparty</th><th scope=col>count</th></tr></thead>\n",
       "<tbody>\n",
       "\t<tr><th scope=row>1</th><td>Act </td><td>Act </td><td>same</td><td>12  </td></tr>\n",
       "\t<tr><th scope=row>2</th><td>Act      </td><td>Green    </td><td>different</td><td>1        </td></tr>\n",
       "\t<tr><th scope=row>3</th><td>Act      </td><td>National </td><td>different</td><td>14       </td></tr>\n",
       "\t<tr><th scope=row>4</th><td>Act          </td><td>United Future</td><td>different    </td><td>1            </td></tr>\n",
       "\t<tr><th scope=row>5</th><td>Act</td><td>NA </td><td>NA </td><td>1  </td></tr>\n",
       "\t<tr><th scope=row>6</th><td>ALC      </td><td>Green    </td><td>different</td><td>1        </td></tr>\n",
       "</tbody>\n",
       "</table>\n"
      ],
      "text/latex": [
       "\\begin{tabular}{r|llll}\n",
       "  & jpartyvote & X\\_singlefav & sameparty & count\\\\\n",
       "\\hline\n",
       "\t1 & Act  & Act  & same & 12  \\\\\n",
       "\t2 & Act       & Green     & different & 1        \\\\\n",
       "\t3 & Act       & National  & different & 14       \\\\\n",
       "\t4 & Act           & United Future & different     & 1            \\\\\n",
       "\t5 & Act & NA  & NA  & 1  \\\\\n",
       "\t6 & ALC       & Green     & different & 1        \\\\\n",
       "\\end{tabular}\n"
      ],
      "text/plain": [
       "  jpartyvote   X_singlefav sameparty count\n",
       "1        Act           Act      same    12\n",
       "2        Act         Green different     1\n",
       "3        Act      National different    14\n",
       "4        Act United Future different     1\n",
       "5        Act          <NA>      <NA>     1\n",
       "6        ALC         Green different     1"
      ]
     },
     "metadata": {},
     "output_type": "display_data"
    }
   ],
   "source": [
    "selected_nzes2011 %>%\n",
    "group_by (jpartyvote, X_singlefav, sameparty) %>%\n",
    "summarise (count = n()) %>% head()"
   ]
  },
  {
   "cell_type": "code",
   "execution_count": 37,
   "metadata": {
    "collapsed": false
   },
   "outputs": [
    {
     "data": {
      "text/html": [
       "<table>\n",
       "<thead><tr><th></th><th scope=col>jpartyvote</th><th scope=col>X_singlefav</th><th scope=col>sameparty</th><th scope=col>count</th></tr></thead>\n",
       "<tbody>\n",
       "\t<tr><th scope=row>1</th><td>Act </td><td>Act </td><td>same</td><td>12  </td></tr>\n",
       "\t<tr><th scope=row>2</th><td>Green</td><td>Green</td><td>same </td><td>237  </td></tr>\n",
       "\t<tr><th scope=row>3</th><td>Labour</td><td>Labour</td><td>same  </td><td>632   </td></tr>\n",
       "\t<tr><th scope=row>4</th><td>Mana</td><td>Mana</td><td>same</td><td>31  </td></tr>\n",
       "\t<tr><th scope=row>5</th><td>National</td><td>National</td><td>same    </td><td>1004    </td></tr>\n",
       "\t<tr><th scope=row>6</th><td>NZ First</td><td>NZ First</td><td>same    </td><td>82      </td></tr>\n",
       "\t<tr><th scope=row>7</th><td>United Future</td><td>United Future</td><td>same         </td><td>5            </td></tr>\n",
       "</tbody>\n",
       "</table>\n"
      ],
      "text/latex": [
       "\\begin{tabular}{r|llll}\n",
       "  & jpartyvote & X\\_singlefav & sameparty & count\\\\\n",
       "\\hline\n",
       "\t1 & Act  & Act  & same & 12  \\\\\n",
       "\t2 & Green & Green & same  & 237  \\\\\n",
       "\t3 & Labour & Labour & same   & 632   \\\\\n",
       "\t4 & Mana & Mana & same & 31  \\\\\n",
       "\t5 & National & National & same     & 1004    \\\\\n",
       "\t6 & NZ First & NZ First & same     & 82      \\\\\n",
       "\t7 & United Future & United Future & same          & 5            \\\\\n",
       "\\end{tabular}\n"
      ],
      "text/plain": [
       "     jpartyvote   X_singlefav sameparty count\n",
       "1           Act           Act      same    12\n",
       "2         Green         Green      same   237\n",
       "3        Labour        Labour      same   632\n",
       "4          Mana          Mana      same    31\n",
       "5      National      National      same  1004\n",
       "6      NZ First      NZ First      same    82\n",
       "7 United Future United Future      same     5"
      ]
     },
     "metadata": {},
     "output_type": "display_data"
    }
   ],
   "source": [
    "selected_nzes2011 %>%\n",
    "group_by (jpartyvote, X_singlefav, sameparty) %>%\n",
    "summarise (count = n()) %>% \n",
    "filter (sameparty == \"same\")"
   ]
  },
  {
   "cell_type": "code",
   "execution_count": 40,
   "metadata": {
    "collapsed": false
   },
   "outputs": [
    {
     "data": {
      "text/html": [
       "<table>\n",
       "<thead><tr><th></th><th scope=col>jpartyvote</th><th scope=col>X_singlefav</th><th scope=col>sameparty</th><th scope=col>count</th></tr></thead>\n",
       "<tbody>\n",
       "\t<tr><th scope=row>1</th><td>Act      </td><td>Green    </td><td>different</td><td>1        </td></tr>\n",
       "\t<tr><th scope=row>2</th><td>Act      </td><td>National </td><td>different</td><td>14       </td></tr>\n",
       "\t<tr><th scope=row>3</th><td>Act          </td><td>United Future</td><td>different    </td><td>1            </td></tr>\n",
       "\t<tr><th scope=row>4</th><td>ALC      </td><td>Green    </td><td>different</td><td>1        </td></tr>\n",
       "\t<tr><th scope=row>5</th><td>ALC      </td><td>Labour   </td><td>different</td><td>4        </td></tr>\n",
       "\t<tr><th scope=row>6</th><td>ALC      </td><td>National </td><td>different</td><td>2        </td></tr>\n",
       "\t<tr><th scope=row>7</th><td>ALC          </td><td>United Future</td><td>different    </td><td>3            </td></tr>\n",
       "\t<tr><th scope=row>8</th><td>Alliance </td><td>Labour   </td><td>different</td><td>1        </td></tr>\n",
       "\t<tr><th scope=row>9</th><td>Alliance </td><td>National </td><td>different</td><td>1        </td></tr>\n",
       "\t<tr><th scope=row>10</th><td>Another party</td><td>Green        </td><td>different    </td><td>2            </td></tr>\n",
       "</tbody>\n",
       "</table>\n"
      ],
      "text/latex": [
       "\\begin{tabular}{r|llll}\n",
       "  & jpartyvote & X\\_singlefav & sameparty & count\\\\\n",
       "\\hline\n",
       "\t1 & Act       & Green     & different & 1        \\\\\n",
       "\t2 & Act       & National  & different & 14       \\\\\n",
       "\t3 & Act           & United Future & different     & 1            \\\\\n",
       "\t4 & ALC       & Green     & different & 1        \\\\\n",
       "\t5 & ALC       & Labour    & different & 4        \\\\\n",
       "\t6 & ALC       & National  & different & 2        \\\\\n",
       "\t7 & ALC           & United Future & different     & 3            \\\\\n",
       "\t8 & Alliance  & Labour    & different & 1        \\\\\n",
       "\t9 & Alliance  & National  & different & 1        \\\\\n",
       "\t10 & Another party & Green         & different     & 2            \\\\\n",
       "\\end{tabular}\n"
      ],
      "text/plain": [
       "      jpartyvote   X_singlefav sameparty count\n",
       "1            Act         Green different     1\n",
       "2            Act      National different    14\n",
       "3            Act United Future different     1\n",
       "4            ALC         Green different     1\n",
       "5            ALC        Labour different     4\n",
       "6            ALC      National different     2\n",
       "7            ALC United Future different     3\n",
       "8       Alliance        Labour different     1\n",
       "9       Alliance      National different     1\n",
       "10 Another party         Green different     2"
      ]
     },
     "metadata": {},
     "output_type": "display_data"
    }
   ],
   "source": [
    "selected_nzes2011 %>%\n",
    "group_by (jpartyvote, X_singlefav, sameparty) %>%\n",
    "summarise (count = n()) %>% \n",
    "filter (sameparty == \"different\") %>%\n"
   ]
  },
  {
   "cell_type": "code",
   "execution_count": 42,
   "metadata": {
    "collapsed": false
   },
   "outputs": [
    {
     "data": {
      "text/html": [
       "<table>\n",
       "<thead><tr><th></th><th scope=col>jpartyvote</th><th scope=col>X_singlefav</th><th scope=col>sameparty</th><th scope=col>count</th></tr></thead>\n",
       "<tbody>\n",
       "\t<tr><th scope=row>1</th><td>Act</td><td>NA </td><td>NA </td><td>1  </td></tr>\n",
       "\t<tr><th scope=row>2</th><td>Conservative</td><td>NA          </td><td>NA          </td><td>1           </td></tr>\n",
       "\t<tr><th scope=row>3</th><td>Don't know</td><td>NA        </td><td>NA        </td><td>7         </td></tr>\n",
       "\t<tr><th scope=row>4</th><td>Green</td><td>NA   </td><td>NA   </td><td>1    </td></tr>\n",
       "\t<tr><th scope=row>5</th><td>Labour</td><td>NA    </td><td>NA    </td><td>11    </td></tr>\n",
       "\t<tr><th scope=row>6</th><td>Maori Party</td><td>NA         </td><td>NA         </td><td>2          </td></tr>\n",
       "\t<tr><th scope=row>7</th><td>National</td><td>NA      </td><td>NA      </td><td>7       </td></tr>\n",
       "\t<tr><th scope=row>8</th><td>NZ First</td><td>NA      </td><td>NA      </td><td>2       </td></tr>\n",
       "\t<tr><th scope=row>9</th><td>NA </td><td>Act</td><td>NA </td><td>4  </td></tr>\n",
       "\t<tr><th scope=row>10</th><td>NA   </td><td>Green</td><td>NA   </td><td>32   </td></tr>\n",
       "\t<tr><th scope=row>11</th><td>NA    </td><td>Labour</td><td>NA    </td><td>121   </td></tr>\n",
       "\t<tr><th scope=row>12</th><td>NA  </td><td>Mana</td><td>NA  </td><td>4   </td></tr>\n",
       "\t<tr><th scope=row>13</th><td>NA      </td><td>National</td><td>NA      </td><td>92      </td></tr>\n",
       "\t<tr><th scope=row>14</th><td>NA      </td><td>NZ First</td><td>NA      </td><td>17      </td></tr>\n",
       "\t<tr><th scope=row>15</th><td>NA           </td><td>United Future</td><td>NA           </td><td>12           </td></tr>\n",
       "\t<tr><th scope=row>16</th><td>NA</td><td>NA</td><td>NA</td><td>26</td></tr>\n",
       "</tbody>\n",
       "</table>\n"
      ],
      "text/latex": [
       "\\begin{tabular}{r|llll}\n",
       "  & jpartyvote & X\\_singlefav & sameparty & count\\\\\n",
       "\\hline\n",
       "\t1 & Act & NA  & NA  & 1  \\\\\n",
       "\t2 & Conservative & NA           & NA           & 1           \\\\\n",
       "\t3 & Don't know & NA         & NA         & 7         \\\\\n",
       "\t4 & Green & NA    & NA    & 1    \\\\\n",
       "\t5 & Labour & NA     & NA     & 11    \\\\\n",
       "\t6 & Maori Party & NA          & NA          & 2          \\\\\n",
       "\t7 & National & NA       & NA       & 7       \\\\\n",
       "\t8 & NZ First & NA       & NA       & 2       \\\\\n",
       "\t9 & NA  & Act & NA  & 4  \\\\\n",
       "\t10 & NA    & Green & NA    & 32   \\\\\n",
       "\t11 & NA     & Labour & NA     & 121   \\\\\n",
       "\t12 & NA   & Mana & NA   & 4   \\\\\n",
       "\t13 & NA       & National & NA       & 92      \\\\\n",
       "\t14 & NA       & NZ First & NA       & 17      \\\\\n",
       "\t15 & NA            & United Future & NA            & 12           \\\\\n",
       "\t16 & NA & NA & NA & 26\\\\\n",
       "\\end{tabular}\n"
      ],
      "text/plain": [
       "     jpartyvote   X_singlefav sameparty count\n",
       "1           Act          <NA>      <NA>     1\n",
       "2  Conservative          <NA>      <NA>     1\n",
       "3    Don't know          <NA>      <NA>     7\n",
       "4         Green          <NA>      <NA>     1\n",
       "5        Labour          <NA>      <NA>    11\n",
       "6   Maori Party          <NA>      <NA>     2\n",
       "7      National          <NA>      <NA>     7\n",
       "8      NZ First          <NA>      <NA>     2\n",
       "9          <NA>           Act      <NA>     4\n",
       "10         <NA>         Green      <NA>    32\n",
       "11         <NA>        Labour      <NA>   121\n",
       "12         <NA>          Mana      <NA>     4\n",
       "13         <NA>      National      <NA>    92\n",
       "14         <NA>      NZ First      <NA>    17\n",
       "15         <NA> United Future      <NA>    12\n",
       "16         <NA>          <NA>      <NA>    26"
      ]
     },
     "metadata": {},
     "output_type": "display_data"
    }
   ],
   "source": [
    "selected_nzes2011 %>%\n",
    "group_by (jpartyvote, X_singlefav, sameparty) %>%\n",
    "summarise (count = n()) %>% \n",
    "filter (is.na (sameparty)) \n"
   ]
  },
  {
   "cell_type": "markdown",
   "metadata": {
    "collapsed": true
   },
   "source": [
    "## Step four. Prepare for the second questoin"
   ]
  },
  {
   "cell_type": "code",
   "execution_count": 61,
   "metadata": {
    "collapsed": false
   },
   "outputs": [
    {
     "name": "stdout",
     "output_type": "stream",
     "text": [
      " Factor w/ 12 levels \"0\",\"1\",\"10\",\"2\",..: 1 1 4 10 4 11 NA NA 1 12 ...\n"
     ]
    }
   ],
   "source": [
    "selected_nzes2011$jnzflike %>% str()"
   ]
  },
  {
   "cell_type": "code",
   "execution_count": 62,
   "metadata": {
    "collapsed": false
   },
   "outputs": [
    {
     "data": {
      "text/html": [
       "<ol class=list-inline>\n",
       "\t<li>\"0\"</li>\n",
       "\t<li>\"1\"</li>\n",
       "\t<li>\"10\"</li>\n",
       "\t<li>\"2\"</li>\n",
       "\t<li>\"3\"</li>\n",
       "\t<li>\"4\"</li>\n",
       "\t<li>\"5\"</li>\n",
       "\t<li>\"6\"</li>\n",
       "\t<li>\"7\"</li>\n",
       "\t<li>\"8\"</li>\n",
       "\t<li>\"9\"</li>\n",
       "\t<li>\"Don't know\"</li>\n",
       "</ol>\n"
      ],
      "text/latex": [
       "\\begin{enumerate*}\n",
       "\\item \"0\"\n",
       "\\item \"1\"\n",
       "\\item \"10\"\n",
       "\\item \"2\"\n",
       "\\item \"3\"\n",
       "\\item \"4\"\n",
       "\\item \"5\"\n",
       "\\item \"6\"\n",
       "\\item \"7\"\n",
       "\\item \"8\"\n",
       "\\item \"9\"\n",
       "\\item \"Don't know\"\n",
       "\\end{enumerate*}\n"
      ],
      "text/markdown": [
       "1. \"0\"\n",
       "2. \"1\"\n",
       "3. \"10\"\n",
       "4. \"2\"\n",
       "5. \"3\"\n",
       "6. \"4\"\n",
       "7. \"5\"\n",
       "8. \"6\"\n",
       "9. \"7\"\n",
       "10. \"8\"\n",
       "11. \"9\"\n",
       "12. \"Don't know\"\n",
       "\n",
       "\n"
      ],
      "text/plain": [
       " [1] \"0\"          \"1\"          \"10\"         \"2\"          \"3\"         \n",
       " [6] \"4\"          \"5\"          \"6\"          \"7\"          \"8\"         \n",
       "[11] \"9\"          \"Don't know\""
      ]
     },
     "metadata": {},
     "output_type": "display_data"
    }
   ],
   "source": [
    "levels (selected_nzes2011$jnzflike)"
   ]
  },
  {
   "cell_type": "code",
   "execution_count": 64,
   "metadata": {
    "collapsed": false
   },
   "outputs": [
    {
     "data": {
      "text/html": [
       "<table>\n",
       "<thead><tr><th></th><th scope=col>jnzflike</th><th scope=col>count</th></tr></thead>\n",
       "<tbody>\n",
       "\t<tr><th scope=row>1</th><td>0  </td><td>622</td></tr>\n",
       "\t<tr><th scope=row>2</th><td>1  </td><td>298</td></tr>\n",
       "\t<tr><th scope=row>3</th><td>10 </td><td>134</td></tr>\n",
       "\t<tr><th scope=row>4</th><td>2  </td><td>266</td></tr>\n",
       "\t<tr><th scope=row>5</th><td>3  </td><td>227</td></tr>\n",
       "\t<tr><th scope=row>6</th><td>4  </td><td>162</td></tr>\n",
       "\t<tr><th scope=row>7</th><td>5  </td><td>544</td></tr>\n",
       "\t<tr><th scope=row>8</th><td>6  </td><td>165</td></tr>\n",
       "\t<tr><th scope=row>9</th><td>7  </td><td>138</td></tr>\n",
       "\t<tr><th scope=row>10</th><td>8  </td><td>107</td></tr>\n",
       "\t<tr><th scope=row>11</th><td>9 </td><td>81</td></tr>\n",
       "\t<tr><th scope=row>12</th><td>Don't know</td><td>224       </td></tr>\n",
       "\t<tr><th scope=row>13</th><td>NA </td><td>133</td></tr>\n",
       "</tbody>\n",
       "</table>\n"
      ],
      "text/latex": [
       "\\begin{tabular}{r|ll}\n",
       "  & jnzflike & count\\\\\n",
       "\\hline\n",
       "\t1 & 0   & 622\\\\\n",
       "\t2 & 1   & 298\\\\\n",
       "\t3 & 10  & 134\\\\\n",
       "\t4 & 2   & 266\\\\\n",
       "\t5 & 3   & 227\\\\\n",
       "\t6 & 4   & 162\\\\\n",
       "\t7 & 5   & 544\\\\\n",
       "\t8 & 6   & 165\\\\\n",
       "\t9 & 7   & 138\\\\\n",
       "\t10 & 8   & 107\\\\\n",
       "\t11 & 9  & 81\\\\\n",
       "\t12 & Don't know & 224       \\\\\n",
       "\t13 & NA  & 133\\\\\n",
       "\\end{tabular}\n"
      ],
      "text/plain": [
       "     jnzflike count\n",
       "1           0   622\n",
       "2           1   298\n",
       "3          10   134\n",
       "4           2   266\n",
       "5           3   227\n",
       "6           4   162\n",
       "7           5   544\n",
       "8           6   165\n",
       "9           7   138\n",
       "10          8   107\n",
       "11          9    81\n",
       "12 Don't know   224\n",
       "13       <NA>   133"
      ]
     },
     "metadata": {},
     "output_type": "display_data"
    }
   ],
   "source": [
    "selected_nzes2011 %>%\n",
    "group_by (jnzflike) %>%\n",
    "summarise (count = n())\n"
   ]
  },
  {
   "cell_type": "code",
   "execution_count": 82,
   "metadata": {
    "collapsed": false
   },
   "outputs": [
    {
     "data": {
      "text/html": [
       "<table>\n",
       "<thead><tr><th></th><th scope=col>agmean</th><th scope=col>agmedian</th><th scope=col>agesd</th><th scope=col>agemin</th><th scope=col>agemax</th></tr></thead>\n",
       "<tbody>\n",
       "\t<tr><th scope=row>1</th><td> 53.22328</td><td> 54.00000</td><td> 17.53710</td><td> 18.00000</td><td>100.00000</td></tr>\n",
       "</tbody>\n",
       "</table>\n"
      ],
      "text/latex": [
       "\\begin{tabular}{r|lllll}\n",
       "  & agmean & agmedian & agesd & agemin & agemax\\\\\n",
       "\\hline\n",
       "\t1 &  53.22328 &  54.00000 &  17.53710 &  18.00000 & 100.00000\\\\\n",
       "\\end{tabular}\n"
      ],
      "text/plain": [
       "    agmean agmedian   agesd agemin agemax\n",
       "1 53.22328       54 17.5371     18    100"
      ]
     },
     "metadata": {},
     "output_type": "display_data"
    }
   ],
   "source": [
    "selected_nzes2011 %>%\n",
    "filter(!is.na(jage)) %>%\n",
    "summarise(agmean = mean(jage, na.rm = TRUE),agmedian = median(jage), agesd = sd(jage), agemin= min(jage), agemax=max(jage))"
   ]
  },
  {
   "cell_type": "code",
   "execution_count": 83,
   "metadata": {
    "collapsed": false
   },
   "outputs": [
    {
     "data": {
      "text/html": [
       "<table>\n",
       "<thead><tr><th></th><th scope=col>jnzflike</th><th scope=col>jage</th></tr></thead>\n",
       "<tbody>\n",
       "\t<tr><th scope=row>1</th><td>0 </td><td>37</td></tr>\n",
       "\t<tr><th scope=row>2</th><td>0 </td><td>37</td></tr>\n",
       "\t<tr><th scope=row>3</th><td>2 </td><td>28</td></tr>\n",
       "\t<tr><th scope=row>4</th><td>8 </td><td>71</td></tr>\n",
       "\t<tr><th scope=row>5</th><td>2 </td><td>43</td></tr>\n",
       "\t<tr><th scope=row>6</th><td>9 </td><td>NA</td></tr>\n",
       "</tbody>\n",
       "</table>\n"
      ],
      "text/latex": [
       "\\begin{tabular}{r|ll}\n",
       "  & jnzflike & jage\\\\\n",
       "\\hline\n",
       "\t1 & 0  & 37\\\\\n",
       "\t2 & 0  & 37\\\\\n",
       "\t3 & 2  & 28\\\\\n",
       "\t4 & 8  & 71\\\\\n",
       "\t5 & 2  & 43\\\\\n",
       "\t6 & 9  & NA\\\\\n",
       "\\end{tabular}\n"
      ],
      "text/plain": [
       "  jnzflike jage\n",
       "1        0   37\n",
       "2        0   37\n",
       "3        2   28\n",
       "4        8   71\n",
       "5        2   43\n",
       "6        9   NA"
      ]
     },
     "metadata": {},
     "output_type": "display_data"
    }
   ],
   "source": [
    "selected_nzes2011 %>% select(jnzflike, jage) %>% head()"
   ]
  },
  {
   "cell_type": "code",
   "execution_count": 90,
   "metadata": {
    "collapsed": false
   },
   "outputs": [
    {
     "data": {
      "image/png": "[encoded data removed]",
      "text/plain": [
       "Plot with title “Histogram of selected_nzes2011$jage”"
      ]
     },
     "metadata": {
      "image/svg+xml": {
       "isolated": true
      }
     },
     "output_type": "display_data"
    }
   ],
   "source": [
    "hist(selected_nzes2011$jage)"
   ]
  },
  {
   "cell_type": "code",
   "execution_count": 86,
   "metadata": {
    "collapsed": false
   },
   "outputs": [
    {
     "data": {
      "text/html": [
       "<table>\n",
       "<thead><tr><th></th><th scope=col>jnzflike</th><th scope=col>count</th></tr></thead>\n",
       "<tbody>\n",
       "\t<tr><th scope=row>1</th><td>0  </td><td>622</td></tr>\n",
       "\t<tr><th scope=row>2</th><td>10 </td><td>134</td></tr>\n",
       "</tbody>\n",
       "</table>\n"
      ],
      "text/latex": [
       "\\begin{tabular}{r|ll}\n",
       "  & jnzflike & count\\\\\n",
       "\\hline\n",
       "\t1 & 0   & 622\\\\\n",
       "\t2 & 10  & 134\\\\\n",
       "\\end{tabular}\n"
      ],
      "text/plain": [
       "  jnzflike count\n",
       "1        0   622\n",
       "2       10   134"
      ]
     },
     "metadata": {},
     "output_type": "display_data"
    }
   ],
   "source": [
    "selected_nzes2011 %>% \n",
    " filter(jnzflike %in%  c(\"0\", \"10\")) %>%\n",
    " group_by(jnzflike) %>%\n",
    " summarise(count = n())"
   ]
  },
  {
   "cell_type": "code",
   "execution_count": 99,
   "metadata": {
    "collapsed": false
   },
   "outputs": [],
   "source": [
    "selected_nzes2011 <- selected_nzes2011 %>%\n",
    "mutate(retiredage = ifelse (jage >= 65, \"retired age\", \"working age\"))\n"
   ]
  },
  {
   "cell_type": "code",
   "execution_count": 100,
   "metadata": {
    "collapsed": false
   },
   "outputs": [
    {
     "data": {
      "text/html": [
       "<table>\n",
       "<thead><tr><th></th><th scope=col>retiredage</th><th scope=col>count</th></tr></thead>\n",
       "<tbody>\n",
       "\t<tr><th scope=row>1</th><td>retired age</td><td>876        </td></tr>\n",
       "\t<tr><th scope=row>2</th><td>working age</td><td>2156       </td></tr>\n",
       "\t<tr><th scope=row>3</th><td>NA</td><td>69</td></tr>\n",
       "</tbody>\n",
       "</table>\n"
      ],
      "text/latex": [
       "\\begin{tabular}{r|ll}\n",
       "  & retiredage & count\\\\\n",
       "\\hline\n",
       "\t1 & retired age & 876        \\\\\n",
       "\t2 & working age & 2156       \\\\\n",
       "\t3 & NA & 69\\\\\n",
       "\\end{tabular}\n"
      ],
      "text/plain": [
       "   retiredage count\n",
       "1 retired age   876\n",
       "2 working age  2156\n",
       "3        <NA>    69"
      ]
     },
     "metadata": {},
     "output_type": "display_data"
    }
   ],
   "source": [
    "selected_nzes2011 %>%\n",
    " group_by (retiredage) %>%\n",
    " summarise  (count = n())"
   ]
  },
  {
   "cell_type": "code",
   "execution_count": 101,
   "metadata": {
    "collapsed": false
   },
   "outputs": [
    {
     "ename": "ERROR",
     "evalue": "Error in eval(expr, envir, enclos): need numeric data\n",
     "output_type": "error",
     "traceback": [
      "Error in eval(expr, envir, enclos): need numeric data\nTraceback:\n",
      "1. selected_nzes2011 %>% group_by(retiredage) %>% summarise(medlike = median(jnzflike))",
      "2. withVisible(eval(quote(`_fseq`(`_lhs`)), env, env))",
      "3. eval(quote(`_fseq`(`_lhs`)), env, env)",
      "4. eval(expr, envir, enclos)",
      "5. `_fseq`(`_lhs`)",
      "6. freduce(value, `_function_list`)",
      "7. withVisible(function_list[[k]](value))",
      "8. function_list[[k]](value)",
      "9. summarise(., medlike = median(jnzflike))",
      "10. summarise_(.data, .dots = lazyeval::lazy_dots(...))",
      "11. summarise_.tbl_df(.data, .dots = lazyeval::lazy_dots(...))",
      "12. summarise_impl(.data, dots)"
     ]
    }
   ],
   "source": [
    "selected_nzes2011 %>% \n",
    "  group_by(retiredage) %>% \n",
    "  summarise(medlike = median(jnzflike))"
   ]
  },
  {
   "cell_type": "code",
   "execution_count": 102,
   "metadata": {
    "collapsed": true
   },
   "outputs": [],
   "source": [
    "selected_nzes2011 <- selected_nzes2011 %>% \n",
    "  mutate(numlikenzf = as.numeric(jnzflike))"
   ]
  },
  {
   "cell_type": "code",
   "execution_count": null,
   "metadata": {
    "collapsed": true
   },
   "outputs": [],
   "source": []
  }
 ],
 "metadata": {
  "kernelspec": {
   "display_name": "R",
   "language": "R",
   "name": "ir"
  },
  "language_info": {
   "codemirror_mode": "r",
   "file_extension": ".r",
   "mimetype": "text/x-r-source",
   "name": "R",
   "pygments_lexer": "r",
   "version": "3.3.1"
  }
 },
 "nbformat": 4,
 "nbformat_minor": 0
}
